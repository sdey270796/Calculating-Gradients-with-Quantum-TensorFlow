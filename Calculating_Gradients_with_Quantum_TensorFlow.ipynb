{
  "nbformat": 4,
  "nbformat_minor": 0,
  "metadata": {
    "colab": {
      "provenance": []
    },
    "kernelspec": {
      "name": "python3",
      "display_name": "Python 3"
    },
    "language_info": {
      "name": "python"
    }
  },
  "cells": [
    {
      "cell_type": "markdown",
      "source": [
        "# **Problem Statement**"
      ],
      "metadata": {
        "id": "UeBR8_M1Yb9B"
      }
    },
    {
      "cell_type": "markdown",
      "source": [
        "Traditional machine learning systems struggle with specific types of computational problems, such as simulating quantum systems or optimizing complex multivariable functions. This project explores the use of **quantum gradients** to enable hybrid quantum-classical machine learning models for solving such problems efficiently.\n",
        "\n",
        "---"
      ],
      "metadata": {
        "id": "wBuD102nYj-N"
      }
    },
    {
      "cell_type": "markdown",
      "source": [
        "\n",
        "# **Objective**"
      ],
      "metadata": {
        "id": "qrp_aIsCYoPo"
      }
    },
    {
      "cell_type": "markdown",
      "source": [
        "To demonstrate the calculation of gradients in parameterized quantum circuits using **TensorFlow Quantum**, enabling optimization for variational quantum algorithms and hybrid quantum-classical learning systems. The goal is to bridge quantum computing and machine learning, paving the way for quantum-enhanced AI models.\n",
        "\n",
        "---"
      ],
      "metadata": {
        "id": "7XviDwnLYuPq"
      }
    },
    {
      "cell_type": "markdown",
      "source": [
        "# **Business and Research Impacts**"
      ],
      "metadata": {
        "id": "r61R7xHBYz1v"
      }
    },
    {
      "cell_type": "markdown",
      "source": [
        "***Business Impacts***:\n",
        "1. **Optimization Improvements**: Quantum gradients can revolutionize industries like finance, logistics, and healthcare, where optimization problems are common.\n",
        "2. **Competitive Advantage**: Early adoption of quantum machine learning can lead to a significant edge in technology and analytics.\n",
        "\n",
        "***Research Impacts***:\n",
        "1. **Advancing Hybrid AI**: This project highlights how quantum and classical systems can collaborate, driving innovation in AI.\n",
        "2. **Foundational Tools**: By improving techniques for quantum gradient computation, it aids in solving broader research problems in quantum simulation and variational algorithms.\n",
        "3. **Future Applications**: Applications include drug discovery, materials science, and cryptographic advancements.\n",
        "\n",
        "---"
      ],
      "metadata": {
        "id": "wSKs8kFsY-KM"
      }
    },
    {
      "cell_type": "markdown",
      "source": [
        "# **Procedure and Approach**"
      ],
      "metadata": {
        "id": "0yQKLA_fZCTm"
      }
    },
    {
      "cell_type": "markdown",
      "source": [
        "1. **Setup**:  \n",
        "   - Install and configure TensorFlow Quantum and Cirq for building quantum circuits.  \n",
        "   - Define parameterized quantum gates to create trainable quantum models.\n",
        "\n",
        "2. **Quantum Circuit Design**:  \n",
        "   - Construct circuits with qubits and parameterized gates, modeling problems where quantum phenomena are beneficial.\n",
        "\n",
        "3. **Gradient Computation**:  \n",
        "   - Use TensorFlow Quantum to calculate gradients of the quantum circuits with respect to parameters.  \n",
        "   - Apply gradient-based optimization (e.g., stochastic gradient descent) for loss minimization.\n",
        "\n",
        "4. **Hybrid Integration**:  \n",
        "   - Combine quantum circuits with classical machine learning frameworks to solve optimization tasks.\n",
        "\n",
        "5. **Analysis**:  \n",
        "   - Visualize results, such as how the loss decreases during training or how gradients evolve with parameters.\n",
        "\n",
        "---"
      ],
      "metadata": {
        "id": "TOuOGVlLZHGW"
      }
    },
    {
      "cell_type": "markdown",
      "source": [
        "# Calculating Gradients"
      ],
      "metadata": {
        "id": "t6i6jGbkZPv4"
      }
    },
    {
      "cell_type": "markdown",
      "source": [
        "Calculating the gradient of the expectation value of a specific observable in a quantum circuit is a sophisticated and nuanced process that requires careful consideration. Unlike traditional machine learning operations—such as matrix multiplication or vector addition—which come with well-defined, straightforward analytic gradient formulas, quantum circuits operate under a different set of mathematical and physical principles. These principles often render it challenging, if not impossible, to write down analytic gradient formulas in a simple and universally applicable way.\n",
        "\n",
        "This inherent complexity arises from the quantum nature of the systems, where observables correspond to measurements on quantum states governed by the rules of quantum mechanics. As a result, determining the gradient of such expectation values involves navigating intricate relationships between quantum states, operators, and measurements. These challenges are further compounded when working with noisy environments or large-scale quantum systems.\n",
        "\n",
        "To overcome these obstacles, researchers have developed various gradient calculation methods specifically designed for quantum scenarios. These methods differ in their underlying approaches, computational requirements, and suitability for specific types of quantum circuits or tasks. Each method is tailored to address particular challenges, such as circuit depth, hardware constraints, or the nature of the observable being measured.\n",
        "\n",
        "In this tutorial, we explore two distinct differentiation schemes used to compute gradients in quantum circuits. By comparing and contrasting these methods, we aim to provide a comprehensive understanding of their theoretical foundations, practical implementation, and relative strengths. Whether you are designing quantum machine learning models or optimizing quantum algorithms, this analysis will serve as a valuable guide to selecting the most appropriate gradient calculation method for your specific needs."
      ],
      "metadata": {
        "id": "2mePUYp2ZJie"
      }
    },
    {
      "cell_type": "markdown",
      "source": [
        "# Set up"
      ],
      "metadata": {
        "id": "TSADCiQvZVus"
      }
    },
    {
      "cell_type": "code",
      "execution_count": null,
      "metadata": {
        "colab": {
          "base_uri": "https://localhost:8080/"
        },
        "id": "B3AX0mxEWpPl",
        "outputId": "8ecab779-3d3d-4d4e-a420-460b08ac4a82"
      },
      "outputs": [
        {
          "output_type": "stream",
          "name": "stdout",
          "text": [
            "Collecting tensorflow==2.15.0\n",
            "  Downloading tensorflow-2.15.0-cp310-cp310-manylinux_2_17_x86_64.manylinux2014_x86_64.whl.metadata (4.4 kB)\n",
            "Requirement already satisfied: absl-py>=1.0.0 in /usr/local/lib/python3.10/dist-packages (from tensorflow==2.15.0) (1.4.0)\n",
            "Requirement already satisfied: astunparse>=1.6.0 in /usr/local/lib/python3.10/dist-packages (from tensorflow==2.15.0) (1.6.3)\n",
            "Requirement already satisfied: flatbuffers>=23.5.26 in /usr/local/lib/python3.10/dist-packages (from tensorflow==2.15.0) (24.3.25)\n",
            "Requirement already satisfied: gast!=0.5.0,!=0.5.1,!=0.5.2,>=0.2.1 in /usr/local/lib/python3.10/dist-packages (from tensorflow==2.15.0) (0.6.0)\n",
            "Requirement already satisfied: google-pasta>=0.1.1 in /usr/local/lib/python3.10/dist-packages (from tensorflow==2.15.0) (0.2.0)\n",
            "Requirement already satisfied: h5py>=2.9.0 in /usr/local/lib/python3.10/dist-packages (from tensorflow==2.15.0) (3.12.1)\n",
            "Requirement already satisfied: libclang>=13.0.0 in /usr/local/lib/python3.10/dist-packages (from tensorflow==2.15.0) (18.1.1)\n",
            "Collecting ml-dtypes~=0.2.0 (from tensorflow==2.15.0)\n",
            "  Downloading ml_dtypes-0.2.0-cp310-cp310-manylinux_2_17_x86_64.manylinux2014_x86_64.whl.metadata (20 kB)\n",
            "Requirement already satisfied: numpy<2.0.0,>=1.23.5 in /usr/local/lib/python3.10/dist-packages (from tensorflow==2.15.0) (1.26.4)\n",
            "Requirement already satisfied: opt-einsum>=2.3.2 in /usr/local/lib/python3.10/dist-packages (from tensorflow==2.15.0) (3.4.0)\n",
            "Requirement already satisfied: packaging in /usr/local/lib/python3.10/dist-packages (from tensorflow==2.15.0) (24.2)\n",
            "Requirement already satisfied: protobuf!=4.21.0,!=4.21.1,!=4.21.2,!=4.21.3,!=4.21.4,!=4.21.5,<5.0.0dev,>=3.20.3 in /usr/local/lib/python3.10/dist-packages (from tensorflow==2.15.0) (4.25.5)\n",
            "Requirement already satisfied: setuptools in /usr/local/lib/python3.10/dist-packages (from tensorflow==2.15.0) (75.1.0)\n",
            "Requirement already satisfied: six>=1.12.0 in /usr/local/lib/python3.10/dist-packages (from tensorflow==2.15.0) (1.16.0)\n",
            "Requirement already satisfied: termcolor>=1.1.0 in /usr/local/lib/python3.10/dist-packages (from tensorflow==2.15.0) (2.5.0)\n",
            "Requirement already satisfied: typing-extensions>=3.6.6 in /usr/local/lib/python3.10/dist-packages (from tensorflow==2.15.0) (4.12.2)\n",
            "Collecting wrapt<1.15,>=1.11.0 (from tensorflow==2.15.0)\n",
            "  Downloading wrapt-1.14.1-cp310-cp310-manylinux_2_5_x86_64.manylinux1_x86_64.manylinux_2_17_x86_64.manylinux2014_x86_64.whl.metadata (6.7 kB)\n",
            "Requirement already satisfied: tensorflow-io-gcs-filesystem>=0.23.1 in /usr/local/lib/python3.10/dist-packages (from tensorflow==2.15.0) (0.37.1)\n",
            "Requirement already satisfied: grpcio<2.0,>=1.24.3 in /usr/local/lib/python3.10/dist-packages (from tensorflow==2.15.0) (1.67.1)\n",
            "Collecting tensorboard<2.16,>=2.15 (from tensorflow==2.15.0)\n",
            "  Downloading tensorboard-2.15.2-py3-none-any.whl.metadata (1.7 kB)\n",
            "Collecting tensorflow-estimator<2.16,>=2.15.0 (from tensorflow==2.15.0)\n",
            "  Downloading tensorflow_estimator-2.15.0-py2.py3-none-any.whl.metadata (1.3 kB)\n",
            "Collecting keras<2.16,>=2.15.0 (from tensorflow==2.15.0)\n",
            "  Downloading keras-2.15.0-py3-none-any.whl.metadata (2.4 kB)\n",
            "Requirement already satisfied: wheel<1.0,>=0.23.0 in /usr/local/lib/python3.10/dist-packages (from astunparse>=1.6.0->tensorflow==2.15.0) (0.45.0)\n",
            "Requirement already satisfied: google-auth<3,>=1.6.3 in /usr/local/lib/python3.10/dist-packages (from tensorboard<2.16,>=2.15->tensorflow==2.15.0) (2.27.0)\n",
            "Requirement already satisfied: google-auth-oauthlib<2,>=0.5 in /usr/local/lib/python3.10/dist-packages (from tensorboard<2.16,>=2.15->tensorflow==2.15.0) (1.2.1)\n",
            "Requirement already satisfied: markdown>=2.6.8 in /usr/local/lib/python3.10/dist-packages (from tensorboard<2.16,>=2.15->tensorflow==2.15.0) (3.7)\n",
            "Requirement already satisfied: requests<3,>=2.21.0 in /usr/local/lib/python3.10/dist-packages (from tensorboard<2.16,>=2.15->tensorflow==2.15.0) (2.32.3)\n",
            "Requirement already satisfied: tensorboard-data-server<0.8.0,>=0.7.0 in /usr/local/lib/python3.10/dist-packages (from tensorboard<2.16,>=2.15->tensorflow==2.15.0) (0.7.2)\n",
            "Requirement already satisfied: werkzeug>=1.0.1 in /usr/local/lib/python3.10/dist-packages (from tensorboard<2.16,>=2.15->tensorflow==2.15.0) (3.1.3)\n",
            "Requirement already satisfied: cachetools<6.0,>=2.0.0 in /usr/local/lib/python3.10/dist-packages (from google-auth<3,>=1.6.3->tensorboard<2.16,>=2.15->tensorflow==2.15.0) (5.5.0)\n",
            "Requirement already satisfied: pyasn1-modules>=0.2.1 in /usr/local/lib/python3.10/dist-packages (from google-auth<3,>=1.6.3->tensorboard<2.16,>=2.15->tensorflow==2.15.0) (0.4.1)\n",
            "Requirement already satisfied: rsa<5,>=3.1.4 in /usr/local/lib/python3.10/dist-packages (from google-auth<3,>=1.6.3->tensorboard<2.16,>=2.15->tensorflow==2.15.0) (4.9)\n",
            "Requirement already satisfied: requests-oauthlib>=0.7.0 in /usr/local/lib/python3.10/dist-packages (from google-auth-oauthlib<2,>=0.5->tensorboard<2.16,>=2.15->tensorflow==2.15.0) (1.3.1)\n",
            "Requirement already satisfied: charset-normalizer<4,>=2 in /usr/local/lib/python3.10/dist-packages (from requests<3,>=2.21.0->tensorboard<2.16,>=2.15->tensorflow==2.15.0) (3.4.0)\n",
            "Requirement already satisfied: idna<4,>=2.5 in /usr/local/lib/python3.10/dist-packages (from requests<3,>=2.21.0->tensorboard<2.16,>=2.15->tensorflow==2.15.0) (3.10)\n",
            "Requirement already satisfied: urllib3<3,>=1.21.1 in /usr/local/lib/python3.10/dist-packages (from requests<3,>=2.21.0->tensorboard<2.16,>=2.15->tensorflow==2.15.0) (2.2.3)\n",
            "Requirement already satisfied: certifi>=2017.4.17 in /usr/local/lib/python3.10/dist-packages (from requests<3,>=2.21.0->tensorboard<2.16,>=2.15->tensorflow==2.15.0) (2024.8.30)\n",
            "Requirement already satisfied: MarkupSafe>=2.1.1 in /usr/local/lib/python3.10/dist-packages (from werkzeug>=1.0.1->tensorboard<2.16,>=2.15->tensorflow==2.15.0) (3.0.2)\n",
            "Requirement already satisfied: pyasn1<0.7.0,>=0.4.6 in /usr/local/lib/python3.10/dist-packages (from pyasn1-modules>=0.2.1->google-auth<3,>=1.6.3->tensorboard<2.16,>=2.15->tensorflow==2.15.0) (0.6.1)\n",
            "Requirement already satisfied: oauthlib>=3.0.0 in /usr/local/lib/python3.10/dist-packages (from requests-oauthlib>=0.7.0->google-auth-oauthlib<2,>=0.5->tensorboard<2.16,>=2.15->tensorflow==2.15.0) (3.2.2)\n",
            "Downloading tensorflow-2.15.0-cp310-cp310-manylinux_2_17_x86_64.manylinux2014_x86_64.whl (475.2 MB)\n",
            "\u001b[2K   \u001b[90m━━━━━━━━━━━━━━━━━━━━━━━━━━━━━━━━━━━━━━━━\u001b[0m \u001b[32m475.2/475.2 MB\u001b[0m \u001b[31m2.9 MB/s\u001b[0m eta \u001b[36m0:00:00\u001b[0m\n",
            "\u001b[?25hDownloading keras-2.15.0-py3-none-any.whl (1.7 MB)\n",
            "\u001b[2K   \u001b[90m━━━━━━━━━━━━━━━━━━━━━━━━━━━━━━━━━━━━━━━━\u001b[0m \u001b[32m1.7/1.7 MB\u001b[0m \u001b[31m29.2 MB/s\u001b[0m eta \u001b[36m0:00:00\u001b[0m\n",
            "\u001b[?25hDownloading ml_dtypes-0.2.0-cp310-cp310-manylinux_2_17_x86_64.manylinux2014_x86_64.whl (1.0 MB)\n",
            "\u001b[2K   \u001b[90m━━━━━━━━━━━━━━━━━━━━━━━━━━━━━━━━━━━━━━━━\u001b[0m \u001b[32m1.0/1.0 MB\u001b[0m \u001b[31m31.6 MB/s\u001b[0m eta \u001b[36m0:00:00\u001b[0m\n",
            "\u001b[?25hDownloading tensorboard-2.15.2-py3-none-any.whl (5.5 MB)\n",
            "\u001b[2K   \u001b[90m━━━━━━━━━━━━━━━━━━━━━━━━━━━━━━━━━━━━━━━━\u001b[0m \u001b[32m5.5/5.5 MB\u001b[0m \u001b[31m46.9 MB/s\u001b[0m eta \u001b[36m0:00:00\u001b[0m\n",
            "\u001b[?25hDownloading tensorflow_estimator-2.15.0-py2.py3-none-any.whl (441 kB)\n",
            "\u001b[2K   \u001b[90m━━━━━━━━━━━━━━━━━━━━━━━━━━━━━━━━━━━━━━━━\u001b[0m \u001b[32m442.0/442.0 kB\u001b[0m \u001b[31m17.2 MB/s\u001b[0m eta \u001b[36m0:00:00\u001b[0m\n",
            "\u001b[?25hDownloading wrapt-1.14.1-cp310-cp310-manylinux_2_5_x86_64.manylinux1_x86_64.manylinux_2_17_x86_64.manylinux2014_x86_64.whl (77 kB)\n",
            "\u001b[2K   \u001b[90m━━━━━━━━━━━━━━━━━━━━━━━━━━━━━━━━━━━━━━━━\u001b[0m \u001b[32m77.9/77.9 kB\u001b[0m \u001b[31m5.1 MB/s\u001b[0m eta \u001b[36m0:00:00\u001b[0m\n",
            "\u001b[?25hInstalling collected packages: wrapt, tensorflow-estimator, ml-dtypes, keras, tensorboard, tensorflow\n",
            "  Attempting uninstall: wrapt\n",
            "    Found existing installation: wrapt 1.16.0\n",
            "    Uninstalling wrapt-1.16.0:\n",
            "      Successfully uninstalled wrapt-1.16.0\n",
            "  Attempting uninstall: ml-dtypes\n",
            "    Found existing installation: ml-dtypes 0.4.1\n",
            "    Uninstalling ml-dtypes-0.4.1:\n",
            "      Successfully uninstalled ml-dtypes-0.4.1\n",
            "  Attempting uninstall: keras\n",
            "    Found existing installation: keras 3.5.0\n",
            "    Uninstalling keras-3.5.0:\n",
            "      Successfully uninstalled keras-3.5.0\n",
            "  Attempting uninstall: tensorboard\n",
            "    Found existing installation: tensorboard 2.17.1\n",
            "    Uninstalling tensorboard-2.17.1:\n",
            "      Successfully uninstalled tensorboard-2.17.1\n",
            "  Attempting uninstall: tensorflow\n",
            "    Found existing installation: tensorflow 2.17.1\n",
            "    Uninstalling tensorflow-2.17.1:\n",
            "      Successfully uninstalled tensorflow-2.17.1\n",
            "\u001b[31mERROR: pip's dependency resolver does not currently take into account all the packages that are installed. This behaviour is the source of the following dependency conflicts.\n",
            "tensorstore 0.1.67 requires ml-dtypes>=0.3.1, but you have ml-dtypes 0.2.0 which is incompatible.\n",
            "tf-keras 2.17.0 requires tensorflow<2.18,>=2.17, but you have tensorflow 2.15.0 which is incompatible.\u001b[0m\u001b[31m\n",
            "\u001b[0mSuccessfully installed keras-2.15.0 ml-dtypes-0.2.0 tensorboard-2.15.2 tensorflow-2.15.0 tensorflow-estimator-2.15.0 wrapt-1.14.1\n"
          ]
        }
      ],
      "source": [
        "! pip install tensorflow==2.15.0"
      ]
    },
    {
      "cell_type": "code",
      "source": [
        "! pip install tensorflow-quantum==0.7.3"
      ],
      "metadata": {
        "colab": {
          "base_uri": "https://localhost:8080/"
        },
        "id": "hAwt5Q8OZrkZ",
        "outputId": "28514f5c-fdea-4dca-9dce-c17bc6198864"
      },
      "execution_count": null,
      "outputs": [
        {
          "output_type": "stream",
          "name": "stdout",
          "text": [
            "Collecting tensorflow-quantum==0.7.3\n",
            "  Downloading tensorflow_quantum-0.7.3-cp310-cp310-manylinux_2_17_x86_64.manylinux2014_x86_64.whl.metadata (1.7 kB)\n",
            "Collecting cirq-core==1.3.0 (from tensorflow-quantum==0.7.3)\n",
            "  Downloading cirq_core-1.3.0-py3-none-any.whl.metadata (1.9 kB)\n",
            "Collecting cirq-google==1.3.0 (from tensorflow-quantum==0.7.3)\n",
            "  Downloading cirq_google-1.3.0-py3-none-any.whl.metadata (2.0 kB)\n",
            "Collecting sympy==1.12 (from tensorflow-quantum==0.7.3)\n",
            "  Downloading sympy-1.12-py3-none-any.whl.metadata (12 kB)\n",
            "Collecting duet~=0.2.8 (from cirq-core==1.3.0->tensorflow-quantum==0.7.3)\n",
            "  Downloading duet-0.2.9-py3-none-any.whl.metadata (2.3 kB)\n",
            "Requirement already satisfied: matplotlib~=3.0 in /usr/local/lib/python3.10/dist-packages (from cirq-core==1.3.0->tensorflow-quantum==0.7.3) (3.8.0)\n",
            "Requirement already satisfied: networkx>=2.4 in /usr/local/lib/python3.10/dist-packages (from cirq-core==1.3.0->tensorflow-quantum==0.7.3) (3.4.2)\n",
            "Requirement already satisfied: numpy~=1.16 in /usr/local/lib/python3.10/dist-packages (from cirq-core==1.3.0->tensorflow-quantum==0.7.3) (1.26.4)\n",
            "Requirement already satisfied: pandas in /usr/local/lib/python3.10/dist-packages (from cirq-core==1.3.0->tensorflow-quantum==0.7.3) (2.2.2)\n",
            "Collecting sortedcontainers~=2.0 (from cirq-core==1.3.0->tensorflow-quantum==0.7.3)\n",
            "  Downloading sortedcontainers-2.4.0-py2.py3-none-any.whl.metadata (10 kB)\n",
            "Requirement already satisfied: scipy in /usr/local/lib/python3.10/dist-packages (from cirq-core==1.3.0->tensorflow-quantum==0.7.3) (1.13.1)\n",
            "Requirement already satisfied: typing-extensions>=4.2 in /usr/local/lib/python3.10/dist-packages (from cirq-core==1.3.0->tensorflow-quantum==0.7.3) (4.12.2)\n",
            "Requirement already satisfied: tqdm in /usr/local/lib/python3.10/dist-packages (from cirq-core==1.3.0->tensorflow-quantum==0.7.3) (4.66.6)\n",
            "Requirement already satisfied: google-api-core>=1.14.0 in /usr/local/lib/python3.10/dist-packages (from google-api-core[grpc]>=1.14.0->cirq-google==1.3.0->tensorflow-quantum==0.7.3) (2.19.2)\n",
            "Requirement already satisfied: proto-plus>=1.20.0 in /usr/local/lib/python3.10/dist-packages (from cirq-google==1.3.0->tensorflow-quantum==0.7.3) (1.25.0)\n",
            "Requirement already satisfied: protobuf>=3.15.0 in /usr/local/lib/python3.10/dist-packages (from cirq-google==1.3.0->tensorflow-quantum==0.7.3) (4.25.5)\n",
            "Requirement already satisfied: mpmath>=0.19 in /usr/local/lib/python3.10/dist-packages (from sympy==1.12->tensorflow-quantum==0.7.3) (1.3.0)\n",
            "Requirement already satisfied: googleapis-common-protos<2.0.dev0,>=1.56.2 in /usr/local/lib/python3.10/dist-packages (from google-api-core>=1.14.0->google-api-core[grpc]>=1.14.0->cirq-google==1.3.0->tensorflow-quantum==0.7.3) (1.66.0)\n",
            "Requirement already satisfied: google-auth<3.0.dev0,>=2.14.1 in /usr/local/lib/python3.10/dist-packages (from google-api-core>=1.14.0->google-api-core[grpc]>=1.14.0->cirq-google==1.3.0->tensorflow-quantum==0.7.3) (2.27.0)\n",
            "Requirement already satisfied: requests<3.0.0.dev0,>=2.18.0 in /usr/local/lib/python3.10/dist-packages (from google-api-core>=1.14.0->google-api-core[grpc]>=1.14.0->cirq-google==1.3.0->tensorflow-quantum==0.7.3) (2.32.3)\n",
            "Requirement already satisfied: grpcio<2.0dev,>=1.33.2 in /usr/local/lib/python3.10/dist-packages (from google-api-core[grpc]>=1.14.0->cirq-google==1.3.0->tensorflow-quantum==0.7.3) (1.67.1)\n",
            "Requirement already satisfied: grpcio-status<2.0.dev0,>=1.33.2 in /usr/local/lib/python3.10/dist-packages (from google-api-core[grpc]>=1.14.0->cirq-google==1.3.0->tensorflow-quantum==0.7.3) (1.62.3)\n",
            "Requirement already satisfied: contourpy>=1.0.1 in /usr/local/lib/python3.10/dist-packages (from matplotlib~=3.0->cirq-core==1.3.0->tensorflow-quantum==0.7.3) (1.3.1)\n",
            "Requirement already satisfied: cycler>=0.10 in /usr/local/lib/python3.10/dist-packages (from matplotlib~=3.0->cirq-core==1.3.0->tensorflow-quantum==0.7.3) (0.12.1)\n",
            "Requirement already satisfied: fonttools>=4.22.0 in /usr/local/lib/python3.10/dist-packages (from matplotlib~=3.0->cirq-core==1.3.0->tensorflow-quantum==0.7.3) (4.54.1)\n",
            "Requirement already satisfied: kiwisolver>=1.0.1 in /usr/local/lib/python3.10/dist-packages (from matplotlib~=3.0->cirq-core==1.3.0->tensorflow-quantum==0.7.3) (1.4.7)\n",
            "Requirement already satisfied: packaging>=20.0 in /usr/local/lib/python3.10/dist-packages (from matplotlib~=3.0->cirq-core==1.3.0->tensorflow-quantum==0.7.3) (24.2)\n",
            "Requirement already satisfied: pillow>=6.2.0 in /usr/local/lib/python3.10/dist-packages (from matplotlib~=3.0->cirq-core==1.3.0->tensorflow-quantum==0.7.3) (11.0.0)\n",
            "Requirement already satisfied: pyparsing>=2.3.1 in /usr/local/lib/python3.10/dist-packages (from matplotlib~=3.0->cirq-core==1.3.0->tensorflow-quantum==0.7.3) (3.2.0)\n",
            "Requirement already satisfied: python-dateutil>=2.7 in /usr/local/lib/python3.10/dist-packages (from matplotlib~=3.0->cirq-core==1.3.0->tensorflow-quantum==0.7.3) (2.8.2)\n",
            "Requirement already satisfied: pytz>=2020.1 in /usr/local/lib/python3.10/dist-packages (from pandas->cirq-core==1.3.0->tensorflow-quantum==0.7.3) (2024.2)\n",
            "Requirement already satisfied: tzdata>=2022.7 in /usr/local/lib/python3.10/dist-packages (from pandas->cirq-core==1.3.0->tensorflow-quantum==0.7.3) (2024.2)\n",
            "Requirement already satisfied: cachetools<6.0,>=2.0.0 in /usr/local/lib/python3.10/dist-packages (from google-auth<3.0.dev0,>=2.14.1->google-api-core>=1.14.0->google-api-core[grpc]>=1.14.0->cirq-google==1.3.0->tensorflow-quantum==0.7.3) (5.5.0)\n",
            "Requirement already satisfied: pyasn1-modules>=0.2.1 in /usr/local/lib/python3.10/dist-packages (from google-auth<3.0.dev0,>=2.14.1->google-api-core>=1.14.0->google-api-core[grpc]>=1.14.0->cirq-google==1.3.0->tensorflow-quantum==0.7.3) (0.4.1)\n",
            "Requirement already satisfied: rsa<5,>=3.1.4 in /usr/local/lib/python3.10/dist-packages (from google-auth<3.0.dev0,>=2.14.1->google-api-core>=1.14.0->google-api-core[grpc]>=1.14.0->cirq-google==1.3.0->tensorflow-quantum==0.7.3) (4.9)\n",
            "Requirement already satisfied: six>=1.5 in /usr/local/lib/python3.10/dist-packages (from python-dateutil>=2.7->matplotlib~=3.0->cirq-core==1.3.0->tensorflow-quantum==0.7.3) (1.16.0)\n",
            "Requirement already satisfied: charset-normalizer<4,>=2 in /usr/local/lib/python3.10/dist-packages (from requests<3.0.0.dev0,>=2.18.0->google-api-core>=1.14.0->google-api-core[grpc]>=1.14.0->cirq-google==1.3.0->tensorflow-quantum==0.7.3) (3.4.0)\n",
            "Requirement already satisfied: idna<4,>=2.5 in /usr/local/lib/python3.10/dist-packages (from requests<3.0.0.dev0,>=2.18.0->google-api-core>=1.14.0->google-api-core[grpc]>=1.14.0->cirq-google==1.3.0->tensorflow-quantum==0.7.3) (3.10)\n",
            "Requirement already satisfied: urllib3<3,>=1.21.1 in /usr/local/lib/python3.10/dist-packages (from requests<3.0.0.dev0,>=2.18.0->google-api-core>=1.14.0->google-api-core[grpc]>=1.14.0->cirq-google==1.3.0->tensorflow-quantum==0.7.3) (2.2.3)\n",
            "Requirement already satisfied: certifi>=2017.4.17 in /usr/local/lib/python3.10/dist-packages (from requests<3.0.0.dev0,>=2.18.0->google-api-core>=1.14.0->google-api-core[grpc]>=1.14.0->cirq-google==1.3.0->tensorflow-quantum==0.7.3) (2024.8.30)\n",
            "Requirement already satisfied: pyasn1<0.7.0,>=0.4.6 in /usr/local/lib/python3.10/dist-packages (from pyasn1-modules>=0.2.1->google-auth<3.0.dev0,>=2.14.1->google-api-core>=1.14.0->google-api-core[grpc]>=1.14.0->cirq-google==1.3.0->tensorflow-quantum==0.7.3) (0.6.1)\n",
            "Downloading tensorflow_quantum-0.7.3-cp310-cp310-manylinux_2_17_x86_64.manylinux2014_x86_64.whl (12.8 MB)\n",
            "\u001b[2K   \u001b[90m━━━━━━━━━━━━━━━━━━━━━━━━━━━━━━━━━━━━━━━━\u001b[0m \u001b[32m12.8/12.8 MB\u001b[0m \u001b[31m86.9 MB/s\u001b[0m eta \u001b[36m0:00:00\u001b[0m\n",
            "\u001b[?25hDownloading cirq_core-1.3.0-py3-none-any.whl (1.8 MB)\n",
            "\u001b[2K   \u001b[90m━━━━━━━━━━━━━━━━━━━━━━━━━━━━━━━━━━━━━━━━\u001b[0m \u001b[32m1.8/1.8 MB\u001b[0m \u001b[31m65.3 MB/s\u001b[0m eta \u001b[36m0:00:00\u001b[0m\n",
            "\u001b[?25hDownloading cirq_google-1.3.0-py3-none-any.whl (598 kB)\n",
            "\u001b[2K   \u001b[90m━━━━━━━━━━━━━━━━━━━━━━━━━━━━━━━━━━━━━━━━\u001b[0m \u001b[32m598.8/598.8 kB\u001b[0m \u001b[31m34.6 MB/s\u001b[0m eta \u001b[36m0:00:00\u001b[0m\n",
            "\u001b[?25hDownloading sympy-1.12-py3-none-any.whl (5.7 MB)\n",
            "\u001b[2K   \u001b[90m━━━━━━━━━━━━━━━━━━━━━━━━━━━━━━━━━━━━━━━━\u001b[0m \u001b[32m5.7/5.7 MB\u001b[0m \u001b[31m92.6 MB/s\u001b[0m eta \u001b[36m0:00:00\u001b[0m\n",
            "\u001b[?25hDownloading duet-0.2.9-py3-none-any.whl (29 kB)\n",
            "Downloading sortedcontainers-2.4.0-py2.py3-none-any.whl (29 kB)\n",
            "Installing collected packages: sortedcontainers, sympy, duet, cirq-core, cirq-google, tensorflow-quantum\n",
            "  Attempting uninstall: sympy\n",
            "    Found existing installation: sympy 1.13.1\n",
            "    Uninstalling sympy-1.13.1:\n",
            "      Successfully uninstalled sympy-1.13.1\n",
            "\u001b[31mERROR: pip's dependency resolver does not currently take into account all the packages that are installed. This behaviour is the source of the following dependency conflicts.\n",
            "torch 2.5.1+cu121 requires sympy==1.13.1; python_version >= \"3.9\", but you have sympy 1.12 which is incompatible.\u001b[0m\u001b[31m\n",
            "\u001b[0mSuccessfully installed cirq-core-1.3.0 cirq-google-1.3.0 duet-0.2.9 sortedcontainers-2.4.0 sympy-1.12 tensorflow-quantum-0.7.3\n"
          ]
        }
      ]
    },
    {
      "cell_type": "code",
      "source": [
        "# Update package resources to account for version changes.\n",
        "import importlib, pkg_resources\n",
        "importlib.reload(pkg_resources)"
      ],
      "metadata": {
        "colab": {
          "base_uri": "https://localhost:8080/"
        },
        "id": "6d1YiXnRamfA",
        "outputId": "d251f884-077d-4b29-b0ff-22a2bca7b82e"
      },
      "execution_count": null,
      "outputs": [
        {
          "output_type": "stream",
          "name": "stderr",
          "text": [
            "<ipython-input-3-b07882b7b3a0>:2: DeprecationWarning: pkg_resources is deprecated as an API. See https://setuptools.pypa.io/en/latest/pkg_resources.html\n",
            "  import importlib, pkg_resources\n"
          ]
        },
        {
          "output_type": "execute_result",
          "data": {
            "text/plain": [
              "<module 'pkg_resources' from '/usr/local/lib/python3.10/dist-packages/pkg_resources/__init__.py'>"
            ]
          },
          "metadata": {},
          "execution_count": 3
        }
      ]
    },
    {
      "cell_type": "code",
      "source": [
        "import tensorflow as tf\n",
        "import tensorflow_quantum as tfq\n",
        "\n",
        "import cirq\n",
        "import sympy\n",
        "import numpy as np\n",
        "\n",
        "# visualization tools\n",
        "%matplotlib inline\n",
        "import matplotlib.pyplot as plt\n",
        "from cirq.contrib.svg import SVGCircuit"
      ],
      "metadata": {
        "id": "nMq6b00va5Te"
      },
      "execution_count": null,
      "outputs": []
    },
    {
      "cell_type": "markdown",
      "source": [
        "# Preliminary"
      ],
      "metadata": {
        "id": "dyxsKXTCbT7q"
      }
    },
    {
      "cell_type": "markdown",
      "source": [
        "Let's make the notion of gradient calculation for quantum circuits a little more concrete. Suppose you have a parameterized circuit like this one:"
      ],
      "metadata": {
        "id": "gTqTkZkjbRr-"
      }
    },
    {
      "cell_type": "code",
      "source": [
        "qubit = cirq.GridQubit(0, 0)\n",
        "my_circuit = cirq.Circuit(cirq.Y(qubit)**sympy.Symbol('alpha'))\n",
        "SVGCircuit(my_circuit)"
      ],
      "metadata": {
        "colab": {
          "base_uri": "https://localhost:8080/",
          "height": 106
        },
        "id": "IR81ulbBbEqb",
        "outputId": "231a8350-7c75-4ac0-fd79-57a9dfe29017"
      },
      "execution_count": null,
      "outputs": [
        {
          "output_type": "stream",
          "name": "stderr",
          "text": [
            "WARNING:matplotlib.font_manager:findfont: Font family 'Arial' not found.\n",
            "WARNING:matplotlib.font_manager:findfont: Font family 'Arial' not found.\n"
          ]
        },
        {
          "output_type": "execute_result",
          "data": {
            "text/plain": [
              "<cirq.contrib.svg.svg.SVGCircuit at 0x7d7a24169360>"
            ],
            "image/svg+xml": "<svg xmlns=\"http://www.w3.org/2000/svg\" width=\"197.3653515625\" height=\"50.0\"><line x1=\"34.7588671875\" x2=\"167.3653515625\" y1=\"25.0\" y2=\"25.0\" stroke=\"#1967d2\" stroke-width=\"1\" /><rect x=\"10.0\" y=\"5.0\" width=\"49.517734375\" height=\"40\" stroke=\"black\" fill=\"white\" stroke-width=\"0\" /><text x=\"34.7588671875\" y=\"25.0\" dominant-baseline=\"middle\" text-anchor=\"middle\" font-size=\"14px\" font-family=\"Arial:style=normal:variant=normal:weight=normal:stretch=normal:size=10.0\">(0, 0): </text><rect x=\"79.517734375\" y=\"5.0\" width=\"67.8476171875\" height=\"40\" stroke=\"black\" fill=\"white\" stroke-width=\"1\" /><text x=\"113.44154296875001\" y=\"25.0\" dominant-baseline=\"middle\" text-anchor=\"middle\" font-size=\"14px\" font-family=\"Arial:style=normal:variant=normal:weight=normal:stretch=normal:size=10.0\">Y^alpha</text></svg>"
          },
          "metadata": {},
          "execution_count": 5
        }
      ]
    },
    {
      "cell_type": "markdown",
      "source": [
        "Along with an observable:"
      ],
      "metadata": {
        "id": "VeheKR5sbavW"
      }
    },
    {
      "cell_type": "code",
      "source": [
        "pauli_x = cirq.X(qubit)\n",
        "pauli_x"
      ],
      "metadata": {
        "colab": {
          "base_uri": "https://localhost:8080/"
        },
        "id": "K_mjEqapbKkn",
        "outputId": "403258d5-f1c7-434b-af81-b5bf3ea57a3d"
      },
      "execution_count": null,
      "outputs": [
        {
          "output_type": "execute_result",
          "data": {
            "text/plain": [
              "cirq.X(cirq.GridQubit(0, 0))"
            ]
          },
          "metadata": {},
          "execution_count": 6
        }
      ]
    },
    {
      "cell_type": "markdown",
      "source": [
        "Looking at this operator you know that $⟨Y(\\alpha)| X | Y(\\alpha)⟩ = \\sin(\\pi \\alpha)$"
      ],
      "metadata": {
        "id": "dN0J_AaEbiDj"
      }
    },
    {
      "cell_type": "code",
      "source": [
        "def my_expectation(op, alpha):\n",
        "    \"\"\"Compute ⟨Y(alpha)| `op` | Y(alpha)⟩\"\"\"\n",
        "\n",
        "    params = {'alpha': alpha}\n",
        "    sim = cirq.Simulator()\n",
        "    final_state_vector = sim.simulate(my_circuit, params).final_state_vector\n",
        "\n",
        "    return op.expectation_from_state_vector(final_state_vector, {qubit: 0}).real"
      ],
      "metadata": {
        "id": "Y2hTWUNYbfxB"
      },
      "execution_count": null,
      "outputs": []
    },
    {
      "cell_type": "code",
      "source": [
        "my_alpha = 0.3\n",
        "print(\"Expectation =\", my_expectation(pauli_x, my_alpha))\n",
        "print(\"Sin Formula =\", np.sin(np.pi * my_alpha))"
      ],
      "metadata": {
        "colab": {
          "base_uri": "https://localhost:8080/"
        },
        "id": "ulU_3B6Rb7pI",
        "outputId": "8b25ea32-23b6-4c12-9d59-d97d8693e338"
      },
      "execution_count": null,
      "outputs": [
        {
          "output_type": "stream",
          "name": "stdout",
          "text": [
            "Expectation = 0.80901700258255\n",
            "Sin Formula = 0.8090169943749475\n"
          ]
        }
      ]
    },
    {
      "cell_type": "markdown",
      "source": [
        " and if you define $f_{1}(\\alpha) = ⟨Y(\\alpha)| X | Y(\\alpha)⟩$ then $f_{1}^{'}(\\alpha) = \\pi \\cos(\\pi \\alpha)$. Let's check this:"
      ],
      "metadata": {
        "id": "7ZdY_1f8cMtH"
      }
    },
    {
      "cell_type": "code",
      "source": [
        "def my_grad(obs, alpha, eps=0.01):\n",
        "    grad = 0\n",
        "\n",
        "    f_x = my_expectation(obs, alpha)\n",
        "    f_x_prime = my_expectation(obs, alpha + eps)\n",
        "\n",
        "    return ((f_x_prime - f_x) / eps).real"
      ],
      "metadata": {
        "id": "2EM1CRSGcLXw"
      },
      "execution_count": null,
      "outputs": []
    },
    {
      "cell_type": "code",
      "source": [
        "print('Finite difference:', my_grad(pauli_x, my_alpha))\n",
        "print('Cosine formula:   ', np.pi * np.cos(np.pi * my_alpha))"
      ],
      "metadata": {
        "colab": {
          "base_uri": "https://localhost:8080/"
        },
        "id": "rXBZS6XEcdW7",
        "outputId": "71603aef-f0fe-4d90-f295-4a9ac11d5a9e"
      },
      "execution_count": null,
      "outputs": [
        {
          "output_type": "stream",
          "name": "stdout",
          "text": [
            "Finite difference: 1.8063604831695557\n",
            "Cosine formula:    1.8465818304904567\n"
          ]
        }
      ]
    },
    {
      "cell_type": "markdown",
      "source": [
        "# The Need for a Differentiator"
      ],
      "metadata": {
        "id": "UDGhPU_Hctow"
      }
    },
    {
      "cell_type": "markdown",
      "source": [
        "As quantum circuits scale in size and complexity, having a straightforward formula to calculate gradients becomes increasingly unlikely. While small or simple circuits may sometimes allow for precise gradient calculations using analytical methods, larger circuits often require more robust and flexible approaches to handle their intricacies. In such cases, relying on predefined formulas may not suffice, especially when dealing with complex quantum states and observables.\n",
        "\n",
        "This is where the `tfq.differentiators.Differentiator` class in TensorFlow Quantum (TFQ) proves invaluable. It provides a powerful framework for defining custom algorithms to compute gradients of quantum circuits, tailored to specific requirements. This flexibility ensures that users can effectively address the unique challenges posed by large-scale quantum computations.\n",
        "\n",
        "For instance, using the `tfq.differentiators.Differentiator` class, you can recreate and extend gradient calculation examples, such as those used in simpler contexts, and apply them to more complex scenarios within TensorFlow Quantum. Here's a practical implementation to demonstrate how this works, seamlessly integrating quantum and classical computation in your models."
      ],
      "metadata": {
        "id": "pDKIlGJvc-dx"
      }
    },
    {
      "cell_type": "code",
      "source": [
        "expectation_calculation = tfq.layers.Expectation(differentiator=tfq.differentiators.ForwardDifference(grid_spacing=0.01))"
      ],
      "metadata": {
        "id": "ubPp9jUEdHR0"
      },
      "execution_count": null,
      "outputs": []
    },
    {
      "cell_type": "code",
      "source": [
        "expectation_calculation(my_circuit,\n",
        "                        operators=pauli_x,\n",
        "                        symbol_names=['alpha'],\n",
        "                        symbol_values=[[my_alpha]])"
      ],
      "metadata": {
        "colab": {
          "base_uri": "https://localhost:8080/"
        },
        "id": "i_zF59ypdOY7",
        "outputId": "96f8b72b-22cb-40c0-8a67-dc4a47f89ab8"
      },
      "execution_count": null,
      "outputs": [
        {
          "output_type": "execute_result",
          "data": {
            "text/plain": [
              "<tf.Tensor: shape=(1, 1), dtype=float32, numpy=array([[0.80901706]], dtype=float32)>"
            ]
          },
          "metadata": {},
          "execution_count": 13
        }
      ]
    },
    {
      "cell_type": "markdown",
      "source": [
        "However, if you switch to estimating expectation based on sampling (what would happen on a true device) the values can change a little bit. This means you now have an imperfect estimate:"
      ],
      "metadata": {
        "id": "qcDmagu1dWeK"
      }
    },
    {
      "cell_type": "code",
      "source": [
        "sampled_expectation_calculation = tfq.layers.SampledExpectation(differentiator=tfq.differentiators.ForwardDifference(grid_spacing=0.01))"
      ],
      "metadata": {
        "id": "CNYxXdeWdXdP"
      },
      "execution_count": null,
      "outputs": []
    },
    {
      "cell_type": "code",
      "source": [
        "sampled_expectation_calculation(my_circuit,\n",
        "                                operators=pauli_x,\n",
        "                                repetitions=500,\n",
        "                                symbol_names=['alpha'],\n",
        "                                symbol_values=[[my_alpha]])"
      ],
      "metadata": {
        "colab": {
          "base_uri": "https://localhost:8080/"
        },
        "id": "PGPL69tndjZL",
        "outputId": "f71cc9db-2b21-41e0-dea6-d18514fde771"
      },
      "execution_count": null,
      "outputs": [
        {
          "output_type": "execute_result",
          "data": {
            "text/plain": [
              "<tf.Tensor: shape=(1, 1), dtype=float32, numpy=array([[0.832]], dtype=float32)>"
            ]
          },
          "metadata": {},
          "execution_count": 15
        }
      ]
    },
    {
      "cell_type": "markdown",
      "source": [
        "This can quickly compound into a serious accuracy problem when it comes to gradients:"
      ],
      "metadata": {
        "id": "tLkd6KVWdsiX"
      }
    },
    {
      "cell_type": "code",
      "source": [
        "# Make input_points = [batch_size, 1] array.\n",
        "\n",
        "input_points = np.linspace(0, 5, 200)[:, np.newaxis].astype(np.float32)\n",
        "\n",
        "exact_outputs = expectation_calculation(my_circuit,\n",
        "                                        operators=pauli_x,\n",
        "                                        symbol_names=['alpha'],\n",
        "                                        symbol_values=input_points)\n",
        "\n",
        "imperfect_outputs = sampled_expectation_calculation(my_circuit,\n",
        "                                                    operators=pauli_x,\n",
        "                                                    repetitions=500,\n",
        "                                                    symbol_names=['alpha'],\n",
        "                                                    symbol_values=input_points)"
      ],
      "metadata": {
        "id": "VmGN7-0fdwG8"
      },
      "execution_count": null,
      "outputs": []
    },
    {
      "cell_type": "code",
      "source": [
        "plt.title('Forward Pass Values')\n",
        "plt.xlabel('$x$')\n",
        "plt.ylabel('$f(x)$')\n",
        "plt.plot(input_points, exact_outputs, label='Analytic')\n",
        "plt.plot(input_points, imperfect_outputs, label='Sampled')\n",
        "plt.legend()\n",
        "plt.show()"
      ],
      "metadata": {
        "colab": {
          "base_uri": "https://localhost:8080/",
          "height": 472
        },
        "id": "V7jLwALYd6Jw",
        "outputId": "bd73913f-1476-4bc6-d2aa-7168f506b90f"
      },
      "execution_count": null,
      "outputs": [
        {
          "output_type": "display_data",
          "data": {
            "text/plain": [
              "<Figure size 640x480 with 1 Axes>"
            ],
            "image/png": "[encoded data removed]"
          },
          "metadata": {}
        }
      ]
    },
    {
      "cell_type": "markdown",
      "source": [
        "## Gradients are a much different story"
      ],
      "metadata": {
        "id": "_qEdx2jCecAe"
      }
    },
    {
      "cell_type": "code",
      "source": [
        "values_tensor = tf.convert_to_tensor(input_points)"
      ],
      "metadata": {
        "id": "68NWaCYxejZn"
      },
      "execution_count": null,
      "outputs": []
    },
    {
      "cell_type": "code",
      "source": [
        "with tf.GradientTape() as g:\n",
        "    g.watch(values_tensor)\n",
        "    exact_outputs = expectation_calculation(my_circuit,\n",
        "                                            operators=pauli_x,\n",
        "                                            symbol_names=['alpha'],\n",
        "                                            symbol_values=values_tensor)"
      ],
      "metadata": {
        "id": "y24N3F37eozX"
      },
      "execution_count": null,
      "outputs": []
    },
    {
      "cell_type": "code",
      "source": [
        "analytic_finite_diff_gradients = g.gradient(exact_outputs, values_tensor)"
      ],
      "metadata": {
        "id": "vC4z-2rNetRn"
      },
      "execution_count": null,
      "outputs": []
    },
    {
      "cell_type": "code",
      "source": [
        "with tf.GradientTape() as g:\n",
        "    g.watch(values_tensor)\n",
        "    imperfect_outputs = sampled_expectation_calculation(my_circuit,\n",
        "                                                        operators=pauli_x,\n",
        "                                                        repetitions=500,\n",
        "                                                        symbol_names=['alpha'],\n",
        "                                                        symbol_values=values_tensor)"
      ],
      "metadata": {
        "id": "VVAjtv1Heya_"
      },
      "execution_count": null,
      "outputs": []
    },
    {
      "cell_type": "code",
      "source": [
        "sampled_finite_diff_gradients = g.gradient(imperfect_outputs, values_tensor)"
      ],
      "metadata": {
        "id": "IbNwEsEUfCyX"
      },
      "execution_count": null,
      "outputs": []
    },
    {
      "cell_type": "code",
      "source": [
        "plt.title('Gradient Values')\n",
        "plt.xlabel('$x$')\n",
        "plt.ylabel('$f^{\\'}(x)$')\n",
        "plt.plot(input_points, analytic_finite_diff_gradients, label='Analytic')\n",
        "plt.plot(input_points, sampled_finite_diff_gradients, label='Sampled')\n",
        "plt.legend()\n",
        "plt.show()"
      ],
      "metadata": {
        "colab": {
          "base_uri": "https://localhost:8080/",
          "height": 472
        },
        "id": "_fwQwzgpfGyZ",
        "outputId": "a925a276-e437-47b2-8b4d-dca8c2f9895c"
      },
      "execution_count": null,
      "outputs": [
        {
          "output_type": "display_data",
          "data": {
            "text/plain": [
              "<Figure size 640x480 with 1 Axes>"
            ],
            "image/png": "[encoded data removed]"
          },
          "metadata": {}
        }
      ]
    },
    {
      "cell_type": "markdown",
      "source": [
        "In this example, while the finite difference formula demonstrates efficiency for computing gradients in analytical scenarios, its performance deteriorates significantly when applied to sampling-based methods. The primary challenge lies in the inherent noise introduced by sampling, which makes the gradients unreliable and prone to inaccuracies. This limitation highlights the need for more sophisticated techniques that can mitigate noise and ensure the gradients remain meaningful in practical, real-world quantum applications.\n",
        "\n",
        "To address this issue, more deliberate and robust methods are required, even if they come at the cost of increased computational time. The next section explores a slower yet more reliable technique. While this method may not be ideal for analytical gradient calculations due to its computational overhead, it excels in handling sample-based scenarios where noise is a critical factor. By striking a balance between precision and practicality, this approach proves to be a valuable tool for real-world quantum gradient calculations, offering significant improvements in accuracy and consistency."
      ],
      "metadata": {
        "id": "RP7ukHs0fcl0"
      }
    },
    {
      "cell_type": "markdown",
      "source": [
        "## A smarter differentiation scheme"
      ],
      "metadata": {
        "id": "TJuzuZYzfj11"
      }
    },
    {
      "cell_type": "code",
      "source": [
        "gradient_safe_sampled_expectation = tfq.layers.SampledExpectation(differentiator=tfq.differentiators.ParameterShift())"
      ],
      "metadata": {
        "id": "B3OSUyC2fntv"
      },
      "execution_count": null,
      "outputs": []
    },
    {
      "cell_type": "code",
      "source": [
        "with tf.GradientTape() as g:\n",
        "    g.watch(values_tensor)\n",
        "    imperfect_outputs = gradient_safe_sampled_expectation(my_circuit,\n",
        "                                                          operators=pauli_x,\n",
        "                                                          repetitions=500,\n",
        "                                                          symbol_names=['alpha'],\n",
        "                                                          symbol_values=values_tensor)"
      ],
      "metadata": {
        "id": "KH2pcvW0fq1f"
      },
      "execution_count": null,
      "outputs": []
    },
    {
      "cell_type": "code",
      "source": [
        "sampled_param_shift_gradients = g.gradient(imperfect_outputs, values_tensor)"
      ],
      "metadata": {
        "id": "yaIYGnapf0mX"
      },
      "execution_count": null,
      "outputs": []
    },
    {
      "cell_type": "code",
      "source": [
        "plt.title('Gradient Values')\n",
        "plt.xlabel('$x$')\n",
        "plt.ylabel('$f^{\\'}(x)$')\n",
        "plt.plot(input_points, analytic_finite_diff_gradients, label='Analytic')\n",
        "plt.plot(input_points, sampled_param_shift_gradients, label='Sampled')\n",
        "plt.savefig('gradients.png')\n",
        "plt.legend()\n",
        "plt.show()"
      ],
      "metadata": {
        "colab": {
          "base_uri": "https://localhost:8080/",
          "height": 472
        },
        "id": "UsES5ni-fh4W",
        "outputId": "83aa74d4-2df3-499d-e790-1c4cc5916ddd"
      },
      "execution_count": null,
      "outputs": [
        {
          "output_type": "display_data",
          "data": {
            "text/plain": [
              "<Figure size 640x480 with 1 Axes>"
            ],
            "image/png": "[encoded data removed]"
          },
          "metadata": {}
        }
      ]
    },
    {
      "cell_type": "markdown",
      "source": [
        "As demonstrated, the choice of differentiators depends heavily on the specific research scenario and its requirements. Slower, sample-based methods, which are designed to be robust against factors like device noise and variability, excel in testing or implementing algorithms within a more \"real-world\" context. These methods provide the stability and reliability needed when working with noisy quantum hardware, making them indispensable for practical, hardware-focused applications.\n",
        "\n",
        "On the other hand, faster techniques like finite difference are well-suited for analytical calculations, where speed and throughput are prioritized. These methods are particularly valuable during the initial stages of research or development when the focus is on theory, simulation, or exploring new algorithms, without yet accounting for the constraints or imperfections of real quantum devices.\n",
        "\n",
        "By understanding the strengths and limitations of each approach, researchers can select the most appropriate differentiator to align with their goals—whether it's optimizing for computational efficiency or ensuring robust performance under real-world conditions. This flexibility is key to advancing quantum algorithm development across different stages of research and application."
      ],
      "metadata": {
        "id": "1KcTJ8I9gbcV"
      }
    },
    {
      "cell_type": "markdown",
      "source": [
        "# Multiple Observables"
      ],
      "metadata": {
        "id": "OGriQVSQgnvJ"
      }
    },
    {
      "cell_type": "markdown",
      "source": [
        "Let's introduce a second observable and see how TensorFlow Quantum supports multiple observables for a single circuit."
      ],
      "metadata": {
        "id": "roP3ecuJgl7i"
      }
    },
    {
      "cell_type": "code",
      "source": [
        "pauli_z = cirq.Z(qubit)\n",
        "pauli_z"
      ],
      "metadata": {
        "colab": {
          "base_uri": "https://localhost:8080/"
        },
        "id": "kB-k1LZDgZ2-",
        "outputId": "c107521e-ae5b-47a8-eeb8-37ca70e49942"
      },
      "execution_count": null,
      "outputs": [
        {
          "output_type": "execute_result",
          "data": {
            "text/plain": [
              "cirq.Z(cirq.GridQubit(0, 0))"
            ]
          },
          "metadata": {},
          "execution_count": 32
        }
      ]
    },
    {
      "cell_type": "markdown",
      "source": [
        "If this observable is used with the same circuit as before, then you have $f_{2}(\\alpha) = ⟨Y(\\alpha)| Z | Y(\\alpha)⟩ = \\cos(\\pi \\alpha)$ and $f_{2}^{'}(\\alpha) = -\\pi \\sin(\\pi \\alpha)$. Perform a quick check:"
      ],
      "metadata": {
        "id": "Q4QK7lkXhDTk"
      }
    },
    {
      "cell_type": "code",
      "source": [
        "test_value = 0.\n",
        "\n",
        "print('Finite difference:', my_grad(pauli_z, test_value))\n",
        "print('Sin formula:      ', -np.pi * np.sin(np.pi * test_value))"
      ],
      "metadata": {
        "colab": {
          "base_uri": "https://localhost:8080/"
        },
        "id": "GJBWUqE3g21b",
        "outputId": "65b5d619-472d-4c19-d7b2-a1859d5a3eab"
      },
      "execution_count": null,
      "outputs": [
        {
          "output_type": "stream",
          "name": "stdout",
          "text": [
            "Finite difference: -0.04934072494506836\n",
            "Sin formula:       -0.0\n"
          ]
        }
      ]
    },
    {
      "cell_type": "markdown",
      "source": [
        "This demonstrates an important principle in quantum gradient calculations. If we define $ g(\\alpha) = f_{1}(\\alpha) + f_{2}(\\alpha) $, then by the rules of calculus, $ g'(\\alpha) = f_{1}'(\\alpha) + f_{2}'(\\alpha) $. Extending this idea, defining multiple observables in TensorFlow Quantum to associate with a circuit is analogous to adding more terms to $ g(\\alpha) $.\n",
        "\n",
        "In this context, the gradient of a particular symbol in a circuit becomes the sum of the gradients with respect to each observable for that symbol. This relationship aligns seamlessly with TensorFlow’s gradient computation and backpropagation frameworks, where the sum of all individual gradients over the observables is treated as the total gradient for a given symbol.\n",
        "\n",
        "This compatibility ensures that quantum circuits integrated into TensorFlow Quantum can leverage the powerful gradient-based optimization techniques of classical machine learning. By summing gradients across observables, the framework provides a straightforward yet robust method to compute the total effect of all observables on the circuit's parameters, facilitating efficient and accurate training of quantum-enhanced models."
      ],
      "metadata": {
        "id": "H6Va27DahQZy"
      }
    },
    {
      "cell_type": "code",
      "source": [
        "sum_of_outputs = tfq.layers.Expectation(\n",
        "    differentiator=tfq.differentiators.ForwardDifference(grid_spacing=0.01))"
      ],
      "metadata": {
        "id": "EY31Zq4LhPfu"
      },
      "execution_count": null,
      "outputs": []
    },
    {
      "cell_type": "code",
      "source": [
        "sum_of_outputs(my_circuit,\n",
        "               operators=[pauli_x, pauli_z],\n",
        "               symbol_names=['alpha'],\n",
        "               symbol_values=[[test_value]])"
      ],
      "metadata": {
        "colab": {
          "base_uri": "https://localhost:8080/"
        },
        "id": "DzLVV-0VhpoW",
        "outputId": "73619d94-2241-4b09-a912-96c790b34e48"
      },
      "execution_count": null,
      "outputs": [
        {
          "output_type": "execute_result",
          "data": {
            "text/plain": [
              "<tf.Tensor: shape=(1, 2), dtype=float32, numpy=array([[1.9106855e-15, 1.0000000e+00]], dtype=float32)>"
            ]
          },
          "metadata": {},
          "execution_count": 35
        }
      ]
    },
    {
      "cell_type": "markdown",
      "source": [
        "Here you see the first entry is the expectation w.r.t `Pauli X`, and the second is the expectation w.r.t `Pauli Z`. Now when you take the gradient:"
      ],
      "metadata": {
        "id": "xNqKmEREhvuq"
      }
    },
    {
      "cell_type": "code",
      "source": [
        "test_value_tensor = tf.convert_to_tensor([[test_value]])"
      ],
      "metadata": {
        "id": "fXL4AuTjhumi"
      },
      "execution_count": null,
      "outputs": []
    },
    {
      "cell_type": "code",
      "source": [
        "with tf.GradientTape() as g:\n",
        "    g.watch(test_value_tensor)\n",
        "    outputs = sum_of_outputs(my_circuit,\n",
        "                             operators=[pauli_x, pauli_z],\n",
        "                             symbol_names=['alpha'],\n",
        "                             symbol_values=test_value_tensor)"
      ],
      "metadata": {
        "id": "PjbtZjUWiEbD"
      },
      "execution_count": null,
      "outputs": []
    },
    {
      "cell_type": "code",
      "source": [
        "sum_of_gradients = g.gradient(outputs, test_value_tensor)"
      ],
      "metadata": {
        "id": "vbX1GDYpiH3G"
      },
      "execution_count": null,
      "outputs": []
    },
    {
      "cell_type": "code",
      "source": [
        "print(my_grad(pauli_x, test_value) + my_grad(pauli_z, test_value))\n",
        "print(sum_of_gradients.numpy())"
      ],
      "metadata": {
        "colab": {
          "base_uri": "https://localhost:8080/"
        },
        "id": "37oNl6vuiJyM",
        "outputId": "f23c87ed-92f1-4be4-beeb-53e07f4db3a5"
      },
      "execution_count": null,
      "outputs": [
        {
          "output_type": "stream",
          "name": "stdout",
          "text": [
            "3.0917350202798843\n",
            "[[3.0917213]]\n"
          ]
        }
      ]
    },
    {
      "cell_type": "markdown",
      "source": [
        "Here you have verified that the sum of the gradients for each observable is indeed the gradient of $\\alpha$. This behavior is supported by all TensorFlow Quantum differentiators and plays a crucial role in the compatibility with the rest of TensorFlow."
      ],
      "metadata": {
        "id": "Bl2T06ZeiVQC"
      }
    },
    {
      "cell_type": "markdown",
      "source": [
        "# Advanced Usage"
      ],
      "metadata": {
        "id": "9FzSiw3dinmF"
      }
    },
    {
      "cell_type": "markdown",
      "source": [
        "In TensorFlow Quantum, all differentiators derive from the base class `tfq.differentiators.Differentiator`. To create a custom differentiator, users need to implement one of two main interfaces. The standard approach is to override the `get_gradient_circuits` method, which specifies the quantum circuits that need to be measured to estimate the gradient. This method provides a straightforward way to define the behavior of the differentiator in terms of circuit measurement.\n",
        "\n",
        "Alternatively, advanced users can choose to overload `differentiate_analytic` and `differentiate_sampled`, which allow for a more direct specification of how gradients should be computed for analytic and sampled scenarios, respectively. For example, the `tfq.differentiators.Adjoint` class employs this route, providing an efficient method for computing gradients analytically.\n",
        "\n",
        "To illustrate this in practice, the following example demonstrates how to compute the gradient of a quantum circuit using TensorFlow Quantum. It employs the parameter-shift rule, a popular technique for gradient computation that is both conceptually simple and effective for many quantum circuits. By leveraging TensorFlow Quantum, this example highlights how users can define and utilize differentiators to optimize quantum circuits seamlessly within the TensorFlow ecosystem."
      ],
      "metadata": {
        "id": "gsVIysjOil5R"
      }
    },
    {
      "cell_type": "markdown",
      "source": [
        "Recall the circuit you defined above, $|\\alpha⟩ = Y^{\\alpha}|0⟩$.  As before, you can define a function as the expectation value of this circuit against the $X$ observable, $f(\\alpha) = ⟨\\alpha|X|\\alpha⟩$.  Using [parameter shift rules](https://pennylane.ai/qml/glossary/parameter_shift.html), for this circuit, you can find that the derivative is\n",
        "$$\\frac{\\partial}{\\partial \\alpha} f(\\alpha) = \\frac{\\pi}{2} f\\left(\\alpha + \\frac{1}{2}\\right) -  \\frac{ \\pi}{2} f\\left(\\alpha - \\frac{1}{2}\\right)$$\n",
        "The `get_gradient_circuits` function returns the components of this derivative."
      ],
      "metadata": {
        "id": "bljUAHwvivAg"
      }
    },
    {
      "cell_type": "code",
      "source": [
        "class MyDifferentiator(tfq.differentiators.Differentiator):\n",
        "    \"\"\"A Toy differentiator for <Y^alpha | X |Y^alpha>.\"\"\"\n",
        "\n",
        "    def __init__(self):\n",
        "        pass\n",
        "\n",
        "    def get_gradient_circuits(self, programs, symbol_names, symbol_values):\n",
        "        \"\"\"Return circuits to compute gradients for given forward pass circuits.\n",
        "\n",
        "        Every gradient on a quantum computer can be computed via measurements\n",
        "        of transformed quantum circuits.  Here, you implement a custom gradient\n",
        "        for a specific circuit.  For a real differentiator, you will need to\n",
        "        implement this function in a more general way.  See the differentiator\n",
        "        implementations in the TFQ library for examples.\n",
        "        \"\"\"\n",
        "\n",
        "        # The two terms in the derivative are the same circuit...\n",
        "        batch_programs = tf.stack([programs, programs], axis=1)\n",
        "\n",
        "        # ... with shifted parameter values.\n",
        "        shift = tf.constant(1/2)\n",
        "        forward = symbol_values + shift\n",
        "        backward = symbol_values - shift\n",
        "        batch_symbol_values = tf.stack([forward, backward], axis=1)\n",
        "\n",
        "        # Weights are the coefficients of the terms in the derivative.\n",
        "        num_program_copies = tf.shape(batch_programs)[0]\n",
        "        batch_weights = tf.tile(tf.constant([[[np.pi/2, -np.pi/2]]]),\n",
        "                                [num_program_copies, 1, 1])\n",
        "\n",
        "        # The index map simply says which weights go with which circuits.\n",
        "        batch_mapper = tf.tile(\n",
        "            tf.constant([[[0, 1]]]), [num_program_copies, 1, 1])\n",
        "\n",
        "        return (batch_programs, symbol_names, batch_symbol_values,\n",
        "                batch_weights, batch_mapper)"
      ],
      "metadata": {
        "id": "_gGP6U_kiUzE"
      },
      "execution_count": null,
      "outputs": []
    },
    {
      "cell_type": "markdown",
      "source": [
        "The `Differentiator` base class uses the components returned from `get_gradient_circuits` to calculate the derivative, as in the parameter shift formula you saw above.  This new differentiator can now be used with existing `tfq.layer` objects:"
      ],
      "metadata": {
        "id": "75TLkxoyjFZ2"
      }
    },
    {
      "cell_type": "code",
      "source": [
        "custom_dif = MyDifferentiator()\n",
        "custom_grad_expectation = tfq.layers.Expectation(differentiator=custom_dif)"
      ],
      "metadata": {
        "id": "iUehyVVljFC_"
      },
      "execution_count": null,
      "outputs": []
    },
    {
      "cell_type": "code",
      "source": [
        "# Now let's get the gradients with finite diff.\n",
        "with tf.GradientTape() as g:\n",
        "    g.watch(values_tensor)\n",
        "    exact_outputs = expectation_calculation(my_circuit,\n",
        "                                            operators=[pauli_x],\n",
        "                                            symbol_names=['alpha'],\n",
        "                                            symbol_values=values_tensor)\n",
        "\n",
        "analytic_finite_diff_gradients = g.gradient(exact_outputs, values_tensor)"
      ],
      "metadata": {
        "id": "ToyBjiHmjPqC"
      },
      "execution_count": null,
      "outputs": []
    },
    {
      "cell_type": "code",
      "source": [
        "# Now let's get the gradients with custom diff.\n",
        "with tf.GradientTape() as g:\n",
        "    g.watch(values_tensor)\n",
        "    my_outputs = custom_grad_expectation(my_circuit,\n",
        "                                         operators=[pauli_x],\n",
        "                                         symbol_names=['alpha'],\n",
        "                                         symbol_values=values_tensor)\n",
        "\n",
        "my_gradients = g.gradient(my_outputs, values_tensor)"
      ],
      "metadata": {
        "id": "jW83iVN8jVHf"
      },
      "execution_count": null,
      "outputs": []
    },
    {
      "cell_type": "code",
      "source": [
        "plt.subplot(1, 2, 1)\n",
        "plt.title('Exact Gradient')\n",
        "plt.plot(input_points, analytic_finite_diff_gradients.numpy())\n",
        "plt.xlabel('x')\n",
        "plt.ylabel('f(x)')\n",
        "\n",
        "plt.subplot(1, 2, 2)\n",
        "plt.title('My Gradient')\n",
        "plt.plot(input_points, my_gradients.numpy())\n",
        "plt.xlabel('x')\n",
        "\n",
        "plt.show()"
      ],
      "metadata": {
        "colab": {
          "base_uri": "https://localhost:8080/",
          "height": 472
        },
        "id": "N1lIsp4AjXk7",
        "outputId": "4b96f0b8-f12b-401a-dced-e30ea34bab2e"
      },
      "execution_count": null,
      "outputs": [
        {
          "output_type": "display_data",
          "data": {
            "text/plain": [
              "<Figure size 640x480 with 2 Axes>"
            ],
            "image/png": "[encoded data removed]"
          },
          "metadata": {}
        }
      ]
    },
    {
      "cell_type": "markdown",
      "source": [
        "With this newly defined differentiator, you can now create differentiable operations to integrate seamlessly into your workflow. TensorFlow Quantum allows these differentiable operations to leverage the gradient computation capabilities provided by the differentiator, enabling efficient optimization and model training.\n",
        "\n",
        "**Key Point:** It is crucial to note that a differentiator can only be attached to one operation (op) at a time. If you intend to attach the same differentiator to a different operation, you must first refresh or reinitialize the differentiator. This ensures that it correctly aligns with the new operation and avoids potential conflicts or inconsistencies.\n",
        "\n",
        "By adhering to this guideline, you can effectively manage differentiators across various operations, maintaining flexibility while ensuring the reliability of gradient computations."
      ],
      "metadata": {
        "id": "nPweQ43gj-Ub"
      }
    },
    {
      "cell_type": "code",
      "source": [
        "# Create a noisy sample based expectation op.\n",
        "expectation_sampled = tfq.get_sampled_expectation_op(\n",
        "    cirq.DensityMatrixSimulator(noise=cirq.depolarize(0.01)))"
      ],
      "metadata": {
        "id": "lJO5dFtFkAqL"
      },
      "execution_count": null,
      "outputs": []
    },
    {
      "cell_type": "code",
      "source": [
        "# Make it differentiable with your differentiator:\n",
        "# Remember to refresh the differentiator before attaching the new op\n",
        "custom_dif.refresh()\n",
        "differentiable_op = custom_dif.generate_differentiable_op(\n",
        "    sampled_op=expectation_sampled)"
      ],
      "metadata": {
        "id": "7yulbdfkkIIL"
      },
      "execution_count": null,
      "outputs": []
    },
    {
      "cell_type": "code",
      "source": [
        "# Prep op inputs.\n",
        "circuit_tensor = tfq.convert_to_tensor([my_circuit])\n",
        "op_tensor = tfq.convert_to_tensor([[pauli_x]])\n",
        "single_value = tf.convert_to_tensor([[my_alpha]])\n",
        "num_samples_tensor = tf.convert_to_tensor([[5000]])"
      ],
      "metadata": {
        "id": "v0lRKLTwkKmg"
      },
      "execution_count": null,
      "outputs": []
    },
    {
      "cell_type": "code",
      "source": [
        "with tf.GradientTape() as g:\n",
        "    g.watch(single_value)\n",
        "    forward_output = differentiable_op(circuit_tensor, ['alpha'], single_value,\n",
        "                                       op_tensor, num_samples_tensor)"
      ],
      "metadata": {
        "id": "99DG6mOtkNFr"
      },
      "execution_count": null,
      "outputs": []
    },
    {
      "cell_type": "code",
      "source": [
        "my_gradients = g.gradient(forward_output, single_value)"
      ],
      "metadata": {
        "id": "IN3iCzI3kPFJ"
      },
      "execution_count": null,
      "outputs": []
    },
    {
      "cell_type": "code",
      "source": [
        "print('---TFQ---')\n",
        "print('Foward:  ', forward_output.numpy())\n",
        "print('Gradient:', my_gradients.numpy())\n",
        "print('\\n---Original---')\n",
        "print('Forward: ', my_expectation(pauli_x, my_alpha))\n",
        "print('Gradient:', my_grad(pauli_x, my_alpha))"
      ],
      "metadata": {
        "colab": {
          "base_uri": "https://localhost:8080/"
        },
        "id": "y2JcTUOIkQ4l",
        "outputId": "95bdcb90-68fe-4bb9-9fe3-dc37e1abb39d"
      },
      "execution_count": null,
      "outputs": [
        {
          "output_type": "stream",
          "name": "stdout",
          "text": [
            "---TFQ---\n",
            "Foward:   [[0.8]]\n",
            "Gradient: [[1.8045309]]\n",
            "\n",
            "---Original---\n",
            "Forward:  0.80901700258255\n",
            "Gradient: 1.8063604831695557\n"
          ]
        }
      ]
    },
    {
      "cell_type": "markdown",
      "source": [
        "# **Final Thoughts**"
      ],
      "metadata": {
        "id": "U95pmkQAlATS"
      }
    },
    {
      "cell_type": "markdown",
      "source": [
        "This project explored the intricacies of calculating gradients in quantum circuits, highlighting the challenges posed by the quantum nature of these systems and the need for specialized differentiation techniques. We delved into two primary differentiation schemes: finite difference and parameter-shift methods, comparing their strengths and weaknesses in the context of analytical and sample-based gradient estimations.\n",
        "\n",
        "***Key Findings***\n",
        "\n",
        "Finite difference, while efficient for analytical calculations, suffers from noise-induced inaccuracies in sample-based scenarios, emphasizing the need for more robust techniques when dealing with real-world quantum hardware.\n",
        "Parameter-shift, although slower, exhibits superior noise resilience and reliability, making it essential for practical quantum applications where device imperfections and variability are prevalent.\n",
        "TensorFlow Quantum's tfq.differentiators.Differentiator class offers a flexible framework for implementing custom gradient calculation algorithms, enabling users to address specific research scenarios effectively.\n",
        "The sum of gradients across multiple observables for a particular symbol in a circuit is treated as the total gradient, maintaining consistency with TensorFlow's gradient computation framework and backpropagation.\n",
        "\n",
        "***Significance***\n",
        "\n",
        "The choice of differentiator hinges on the specific requirements of a research project. Slower, sample-based methods excel in testing and implementing real-world quantum algorithms where noise resilience is paramount, while faster techniques like finite difference are well-suited for analytical calculations during theoretical exploration or development phases.\n",
        "\n",
        "***Further Research***\n",
        "\n",
        "Future directions could involve investigating more advanced gradient calculation methods like the adjoint method, exploring noise mitigation techniques to improve the accuracy of sample-based estimations, and developing custom differentiators tailored to specific circuit structures or problem domains.\n",
        "\n",
        "***Overall***\n",
        "\n",
        "This project demonstrated the importance of a careful and nuanced approach to gradient calculation in quantum circuits. By leveraging TensorFlow Quantum and understanding the available differentiation schemes, researchers can effectively optimize their quantum algorithms and unlock the potential of quantum computation. As quantum hardware advances and the field progresses, refining these techniques will be crucial for building robust and practical quantum-enhanced solutions."
      ],
      "metadata": {
        "id": "nRFsqlJEkyI9"
      }
    },
    {
      "cell_type": "markdown",
      "source": [
        "# **Conclusion**"
      ],
      "metadata": {
        "id": "OhG9lcvdZXQf"
      }
    },
    {
      "cell_type": "markdown",
      "source": [
        "The project successfully demonstrates the capability to calculate and use quantum gradients for optimizing parameterized quantum circuits. This serves as a proof of concept for the utility of TensorFlow Quantum in quantum machine learning tasks. The results indicate that hybrid quantum-classical systems can efficiently solve complex optimization problems and pave the way for more scalable and advanced quantum-enhanced models.\n",
        "\n",
        "---"
      ],
      "metadata": {
        "id": "HXPKbTEHZbVB"
      }
    },
    {
      "cell_type": "markdown",
      "source": [
        "# **Future Improvements**"
      ],
      "metadata": {
        "id": "j0dlc5H0Zd3Y"
      }
    },
    {
      "cell_type": "markdown",
      "source": [
        "1. **Scalability**: Extend the approach to larger quantum circuits and datasets.  \n",
        "2. **Error Mitigation**: Address issues caused by quantum noise in near-term quantum devices.  \n",
        "3. **Diverse Applications**: Explore more complex hybrid quantum-classical use cases, such as natural language processing and reinforcement learning.  \n",
        "4. **Integration with Other Frameworks**: Combine TensorFlow Quantum with other quantum tools like IBM Qiskit or AWS Braket for broader compatibility.  \n",
        "5. **Real-World Testing**: Deploy hybrid models on real-world quantum devices to evaluate performance in practical scenarios.\n",
        "\n",
        "---"
      ],
      "metadata": {
        "id": "VSdb-r3QZhLU"
      }
    }
  ]
}